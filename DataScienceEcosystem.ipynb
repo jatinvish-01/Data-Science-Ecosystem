{
 "cells": [
  {
   "cell_type": "markdown",
   "id": "e4698125-595e-43ee-b655-0bea6cc1dea0",
   "metadata": {},
   "source": [
    "# Data Science Tools and Ecosystem\n",
    "\n",
    "## In this notebook, Data Science Tools and Ecosystem are summarized.\n",
    "\n",
    "### Objectives:\n",
    "\n",
    "- List popular languages for Data Science\n",
    "- List commonly used libraries by Data Scientists\n",
    "- Create a table of Data Science Tools\n",
    "- Perform simple arithmetic expressions in Python\n",
    "- Convert minutes to hours using Python code\n",
    "\n",
    "---\n",
    "\n",
    "### Popular Languages for Data Science:\n",
    "1. Python\n",
    "2. R\n",
    "3. SQL\n",
    "\n",
    "---\n",
    "\n",
    "### Commonly Used Libraries by Data Scientists:\n",
    "#### 🔹 For Data Manipulation & Analysis\n",
    "- **NumPy** → For numerical computing, arrays, and mathematical functions.  \n",
    "- **Pandas** → For handling structured data, data cleaning, manipulation, and analysis.  \n",
    "\n",
    "---\n",
    "\n",
    "### 🔹 For Data Visualization\n",
    "- **Matplotlib** → Foundation plotting library.  \n",
    "- **Seaborn** → Statistical data visualization built on Matplotlib.  \n",
    "- **Plotly** → Interactive visualizations and dashboards.  \n",
    "\n",
    "---\n",
    "\n",
    "### 🔹 For Machine Learning & AI\n",
    "- **Scikit-learn** → Classical machine learning (regression, classification, clustering, model evaluation).  \n",
    "- **TensorFlow** → Deep learning and neural networks.\n",
    "- **PyTorch** → Deep learning with dynamic computation graphs.\n",
    "- **XGBoost / LightGBM / CatBoost** → Gradient boosting algorithms for structured/tabular data.\n",
    "\n",
    "---\n",
    "\n",
    "### 🔹For Statistics & Math\n",
    "- **SciPy** → Scientific computing, optimization, integration, and statistical functions.\n",
    "- **Statsmodels** → Statistical models and hypothesis testing.\n",
    "\n",
    "--- \n",
    "\n",
    "### 🔹 For Big Data & Distributed Computing\n",
    "- **PySpark** → Handling big data with Apache Spark.\n",
    "- **Dask** → Parallel computing with Pandas-like syntax.\n",
    "\n",
    "---\n",
    "\n",
    "### 🔹 For Natural Language Processing (NLP)\n",
    "- **NLTK** → Basic NLP tasks (tokenization, stemming, POS tagging).\n",
    "- **spaCy** → Industrial-strength NLP with deep learning integration.\n",
    "- **Transformers (Hugging Face)** → State-of-the-art NLP models (BERT, GPT, etc.).\n",
    "\n",
    "---\n",
    "\n",
    "### 🔹 For Data Collection & Web Scraping\n",
    "- **Requests** → HTTP requests and APIs.\n",
    "- **BeautifulSoup** → Web scraping and HTML parsing.\n",
    "- **Selenium** → Automated browser interaction.\n",
    "  \n",
    "---\n",
    "\n",
    "### 🔹 For Data Engineering & Storage\n",
    "- **SQLAlchemy** → Database interaction with Python.\n",
    "- **PyArrow** → Data exchange and parquet file handling.\n",
    "\n",
    "---\n",
    "\n",
    "### 🔹 For Visualization & Reporting\n",
    "- **Dash / Streamlit** → Building interactive dashboards.\n",
    "- **Bokeh** → Interactive web visualizations.\n",
    "\n",
    "### Data Science Tools\n",
    "\n",
    "| Tool            |\n",
    "|-----------------|\n",
    "| Jupyter Notebook|\n",
    "| RStudio         |\n",
    "| Apache Zeppelin |\n",
    "| Gooogle Colab   |\n"
   ]
  },
  {
   "cell_type": "code",
   "execution_count": 4,
   "id": "314baa91-2e52-4e7e-979a-367596c25ba1",
   "metadata": {},
   "outputs": [
    {
     "name": "stdout",
     "output_type": "stream",
     "text": [
      "Enter the number a:  67\n",
      "Enter the number b:  34\n"
     ]
    },
    {
     "name": "stdout",
     "output_type": "stream",
     "text": [
      "Addition:  101\n",
      "Subtraction:  33\n",
      "Multiplication:  2278\n",
      "Division:  1.9705882352941178\n"
     ]
    }
   ],
   "source": [
    "# Perform simple Arithmetic expressions in Python\n",
    "\n",
    "a = int(input(\"Enter the number a: \"))\n",
    "b = int(input(\"Enter the number b: \"))\n",
    "\n",
    "add = a + b\n",
    "sub = a - b\n",
    "multi = a * b\n",
    "div = a / b\n",
    "\n",
    "print(\"Addition: \", add)\n",
    "print(\"Subtraction: \", sub)\n",
    "print(\"Multiplication: \", multi)\n",
    "print(\"Division: \", div)"
   ]
  },
  {
   "cell_type": "code",
   "execution_count": 5,
   "id": "34116cd4-4f11-46a5-a258-b5f43684da25",
   "metadata": {},
   "outputs": [
    {
     "name": "stdout",
     "output_type": "stream",
     "text": [
      "Enter the minutes:  200\n"
     ]
    },
    {
     "name": "stdout",
     "output_type": "stream",
     "text": [
      "200 minutes is equal to, 3.3333333333333335, hours\n"
     ]
    }
   ],
   "source": [
    "# Convert minutes to hours using Python code\n",
    "\n",
    "minutes = int(input(\"Enter the minutes: \"))\n",
    "hours = minutes / 60\n",
    "\n",
    "print(f\"{minutes} minutes is equal to, {hours}, hours\")"
   ]
  },
  {
   "cell_type": "markdown",
   "id": "7ec5a6c3",
   "metadata": {},
   "source": [
    "## Author \n",
    "Jatin"
   ]
  }
 ],
 "metadata": {
  "kernelspec": {
   "display_name": "Python 3 (ipykernel)",
   "language": "python",
   "name": "python3"
  },
  "language_info": {
   "codemirror_mode": {
    "name": "ipython",
    "version": 3
   },
   "file_extension": ".py",
   "mimetype": "text/x-python",
   "name": "python",
   "nbconvert_exporter": "python",
   "pygments_lexer": "ipython3",
   "version": "3.12.7"
  },
  "widgets": {
   "application/vnd.jupyter.widget-state+json": {
    "state": {},
    "version_major": 2,
    "version_minor": 0
   }
  }
 },
 "nbformat": 4,
 "nbformat_minor": 5
}
